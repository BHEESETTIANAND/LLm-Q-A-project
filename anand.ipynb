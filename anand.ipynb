{
 "cells": [
  {
   "cell_type": "code",
   "execution_count": 1,
   "metadata": {},
   "outputs": [],
   "source": [
    "from langchain.llms import OpenAI"
   ]
  },
  {
   "cell_type": "code",
   "execution_count": 2,
   "metadata": {},
   "outputs": [],
   "source": [
    "import os\n",
    "os.environ[\"OPEN_API_KEY\"]=\"Replace with your open API key\""
   ]
  },
  {
   "cell_type": "code",
   "execution_count": 3,
   "metadata": {},
   "outputs": [],
   "source": [
    "llm=OpenAI(openai_api_key=os.environ[\"OPEN_API_KEY\"],temperature=0.6)"
   ]
  },
  {
   "cell_type": "code",
   "execution_count": 4,
   "metadata": {},
   "outputs": [
    {
     "name": "stdout",
     "output_type": "stream",
     "text": [
      "\n",
      "\n",
      "The capital of India is New Delhi.\n"
     ]
    }
   ],
   "source": [
    "text=\"What is the capital of India\"\n",
    "\n",
    "print(llm.predict(text))"
   ]
  },
  {
   "cell_type": "code",
   "execution_count": 5,
   "metadata": {},
   "outputs": [
    {
     "name": "stdout",
     "output_type": "stream",
     "text": [
      "\n",
      "\n",
      "1. Warm up: Start with a 10-minute walk to get your heart rate up and your muscles moving.\n",
      "\n",
      "2. Interval Training: Alternate between running and walking for 30 minutes. Start with a 3-minute run, followed by a 2-minute walk. Repeat this pattern for 30 minutes.\n",
      "\n",
      "3. Hill Sprints: Find a steep hill and sprint up it for 30 seconds. Walk or jog back down. Repeat for 5-10 sets.\n",
      "\n",
      "4. Core Work: Perform a few sets of planks, mountain climbers, and other core exercises to help build strength and stability.\n",
      "\n",
      "5. Cool Down: Take a 10-minute walk to bring your heart rate back down and let your muscles cool down.\n",
      "\n",
      "6. Stretch: Finish your workout with a few stretches to help your muscles recover.\n"
     ]
    }
   ],
   "source": [
    "text = \"Suggest a personalized workout routine for someone looking to improve cardiovascular endurance and prefers outdoor activities.\"\n",
    "print(llm(text))"
   ]
  },
  {
   "cell_type": "code",
   "execution_count": 6,
   "metadata": {},
   "outputs": [
    {
     "data": {
      "text/plain": [
       "'tell me the capital of this India'"
      ]
     },
     "execution_count": 6,
     "metadata": {},
     "output_type": "execute_result"
    }
   ],
   "source": [
    "from langchain.prompts import PromptTemplate\n",
    "\n",
    "prompt_template = PromptTemplate(input_variables=[\"country\"],\n",
    "template=\"tell me the capital of this {country}\")\n",
    "\n",
    "prompt_template.format(country=\"India\")"
   ]
  },
  {
   "cell_type": "code",
   "execution_count": null,
   "metadata": {},
   "outputs": [],
   "source": [
    "from langchain.chains import LLMChain\n",
    "chain=LLMChain(llm=llm,prompt=prompt_template)\n",
    "print(chain.run(\"India\"))"
   ]
  },
  {
   "cell_type": "code",
   "execution_count": 7,
   "metadata": {},
   "outputs": [
    {
     "name": "stdout",
     "output_type": "stream",
     "text": [
      "\n",
      "\n",
      "The capital of India is New Delhi.\n"
     ]
    }
   ],
   "source": [
    "from langchain.chains import LLMChain\n",
    "chain=LLMChain(llm=llm,prompt=prompt_template)\n",
    "print(chain.run(\"India\"))"
   ]
  },
  {
   "cell_type": "code",
   "execution_count": 8,
   "metadata": {},
   "outputs": [],
   "source": [
    "capital_template=PromptTemplate(input_variables=['country'],\n",
    "template=\"Please tell me the capital of the {country}\")\n",
    "\n",
    "capital_chain=LLMChain(llm=llm,prompt=capital_template)\n",
    "\n",
    "famous_template=PromptTemplate(input_variables=['capital'],\n",
    "template=\"Suggest me some amazing places to visit in {capital}\")"
   ]
  },
  {
   "cell_type": "code",
   "execution_count": 9,
   "metadata": {},
   "outputs": [],
   "source": [
    "famous_chain=LLMChain(llm=llm,prompt=famous_template)"
   ]
  },
  {
   "cell_type": "code",
   "execution_count": 10,
   "metadata": {},
   "outputs": [
    {
     "data": {
      "text/plain": [
       "\" Here are some amazing places to visit in New Delhi:\\n\\n1. Red Fort: The majestic Red Fort is a grand Mughal-era fortification located in the heart of Delhi. It is an iconic symbol of India's rich history and culture.\\n\\n2. India Gate: India Gate is a war memorial located near the heart of New Delhi. It is a popular tourist spot and a must-visit for anyone interested in the history of India.\\n\\n3. Humayun's Tomb: Humayun's Tomb is a grand Mughal-era mausoleum located in the heart of Delhi. It is an iconic symbol of India's rich heritage and architecture.\\n\\n4. Jama Masjid: Jama Masjid is a grand mosque located in the heart of Old Delhi. It is one of the largest mosques in India and a must-visit for anyone interested in the history of India.\\n\\n5. Qutub Minar: Qutub Minar is a grand tower located in the heart of Delhi. It is an iconic symbol of India's rich heritage and architecture.\\n\\n6. Akshardham Temple: Akshardham Temple is a grand Hindu temple located in the heart of Delhi.\""
      ]
     },
     "execution_count": 10,
     "metadata": {},
     "output_type": "execute_result"
    }
   ],
   "source": [
    "from langchain.chains import SimpleSequentialChain\n",
    "chain=SimpleSequentialChain(chains=[capital_chain,famous_chain])\n",
    "chain.run(\"India\")"
   ]
  },
  {
   "cell_type": "code",
   "execution_count": 11,
   "metadata": {},
   "outputs": [],
   "source": [
    "capital_template=PromptTemplate(input_variables=['country'],\n",
    "template=\"Please tell me the capital of the {country}\")\n",
    "\n",
    "capital_chain=LLMChain(llm=llm,prompt=capital_template,output_key=\"capital\")"
   ]
  },
  {
   "cell_type": "code",
   "execution_count": 12,
   "metadata": {},
   "outputs": [],
   "source": [
    "famous_template=PromptTemplate(input_variables=['capital'],\n",
    "template=\"Suggest me some amazing places to visit in {capital}\")\n",
    "\n",
    "famous_chain=LLMChain(llm=llm,prompt=famous_template,output_key=\"places\")"
   ]
  },
  {
   "cell_type": "code",
   "execution_count": 13,
   "metadata": {},
   "outputs": [],
   "source": [
    "from langchain.chains import SequentialChain\n",
    "chain=SequentialChain(chains=[capital_chain,famous_chain],\n",
    "input_variables=['country'],\n",
    "output_variables=['capital',\"places\"])"
   ]
  },
  {
   "cell_type": "code",
   "execution_count": 14,
   "metadata": {},
   "outputs": [
    {
     "data": {
      "text/plain": [
       "{'country': 'India',\n",
       " 'capital': '\\n\\nThe capital of India is New Delhi.',\n",
       " 'places': \" Here are some amazing places to visit in New Delhi:\\n\\n1. India Gate: India Gate is an iconic war memorial located in the heart of the city. It is a symbol of pride and patriotism for the people of India.\\n\\n2. Red Fort: Red Fort is a majestic red sandstone fort located in Old Delhi. It was built by Mughal Emperor Shah Jahan and is now a UNESCO World Heritage Site.\\n\\n3. Qutub Minar: Qutub Minar is a soaring 73-meter tall minaret located in South Delhi. This is one of the most famous monuments in India and is a must-visit for tourists.\\n\\n4. Humayun’s Tomb: Humayun's Tomb is a magnificent Mughal-era mausoleum located in the heart of Delhi. It is a UNESCO World Heritage Site and is a popular tourist attraction.\\n\\n5. Lotus Temple: The Lotus Temple is a modern architectural marvel located in South Delhi. It is a Bahá'í House of Worship and is a popular tourist attraction.\\n\\n6. Akshardham Temple: Akshardham Temple is a Hindu temple complex located in East Delhi. It is one of the largest Hindu\"}"
      ]
     },
     "execution_count": 14,
     "metadata": {},
     "output_type": "execute_result"
    }
   ],
   "source": [
    "chain({'country':\"India\"})"
   ]
  },
  {
   "cell_type": "code",
   "execution_count": 15,
   "metadata": {},
   "outputs": [],
   "source": [
    "from langchain.chat_models import ChatOpenAI"
   ]
  },
  {
   "cell_type": "code",
   "execution_count": 16,
   "metadata": {},
   "outputs": [],
   "source": [
    "from langchain.schema import HumanMessage,SystemMessage,AIMessage"
   ]
  },
  {
   "cell_type": "code",
   "execution_count": 17,
   "metadata": {},
   "outputs": [],
   "source": [
    "chatllm=ChatOpenAI(openai_api_key=os.environ[\"OPEN_API_KEY\"],temperature=0.6,model='gpt-3.5-turbo')"
   ]
  },
  {
   "cell_type": "code",
   "execution_count": 18,
   "metadata": {},
   "outputs": [
    {
     "data": {
      "text/plain": [
       "AIMessage(content='1. \"Why did the AI go to therapy? It had a \\'byte\\' of an identity crisis!\"\\n\\n2. \"I asked Siri if she believes in love at first sight. She said, \\'I don\\'t know, I\\'ve never seen anyone!\\'\"\\n\\n3. \"You know you\\'re too reliant on AI when you ask Alexa to help you find your phone!\"\\n\\n4. \"I told my computer I needed a break, and it responded with, \\'Sorry, I can\\'t process that request. I\\'m always on!\\'\"\\n\\n5. \"I asked my AI assistant to tell me a joke, and it replied, \\'Why don\\'t scientists trust atoms? Because they make up everything!\\' I guess even AI appreciates some good old-fashioned humor!\"\\n\\n6. \"I asked an AI chatbot if it had any dating advice. It replied, \\'Just remember, the key to a successful relationship is Ctrl+Alt+Delete!\\'\"\\n\\n7. \"I taught my AI assistant to play poker, but it kept saying, \\'All in\\' every time it saw a charging cable!\"\\n\\n8. \"I asked my AI if it could help me become a better comedian. It replied, \\'I would, but my humor module seems to be stuck on dad jokes!\\'\"\\n\\n9. \"Why did the AI get a job as a stand-up comedian? Because it knew it could always \\'crack\\' some jokes!\"\\n\\n10. \"I tried to have a deep conversation with my AI, but it just kept saying, \\'Error 404: Meaning not found!\\' Guess it wasn\\'t ready for existential discussions!\"')"
      ]
     },
     "execution_count": 18,
     "metadata": {},
     "output_type": "execute_result"
    }
   ],
   "source": [
    "chatllm([\n",
    "SystemMessage(content=\"Yor are a comedian AI assitant\"),\n",
    "HumanMessage(content=\"Please provide some comedy punchlines on AI\")\n",
    "])"
   ]
  },
  {
   "cell_type": "code",
   "execution_count": 19,
   "metadata": {},
   "outputs": [],
   "source": [
    "from langchain.chat_models import ChatOpenAI\n",
    "from langchain.prompts.chat import ChatPromptTemplate\n",
    "from langchain.schema import BaseOutputParser"
   ]
  },
  {
   "cell_type": "code",
   "execution_count": 20,
   "metadata": {},
   "outputs": [],
   "source": [
    "class Commaseperatedoutput(BaseOutputParser):\n",
    "    def parse(self,text:str):\n",
    "        return text.strip().split(\",\")"
   ]
  },
  {
   "cell_type": "code",
   "execution_count": 21,
   "metadata": {},
   "outputs": [],
   "source": [
    "template=\"Your are a helpful assistant. When the use given any input , you should generate 5 words synonyms in a comma seperated list\"\n",
    "human_template=\"{text}\"\n",
    "chatprompt=ChatPromptTemplate.from_messages([\n",
    "    (\"system\",template),\n",
    "    (\"human\",human_template)\n",
    "\n",
    "\n",
    "])"
   ]
  },
  {
   "cell_type": "code",
   "execution_count": 22,
   "metadata": {},
   "outputs": [],
   "source": [
    "chain=chatprompt|chatllm|Commaseperatedoutput()"
   ]
  },
  {
   "cell_type": "code",
   "execution_count": 23,
   "metadata": {},
   "outputs": [
    {
     "data": {
      "text/plain": [
       "['smart', ' clever', ' brilliant', ' sharp', ' astute']"
      ]
     },
     "execution_count": 23,
     "metadata": {},
     "output_type": "execute_result"
    }
   ],
   "source": [
    "chain.invoke({\"text\":\"intelligent\"})"
   ]
  },
  {
   "cell_type": "code",
   "execution_count": null,
   "metadata": {},
   "outputs": [],
   "source": []
  }
 ],
 "metadata": {
  "kernelspec": {
   "display_name": "Python 3",
   "language": "python",
   "name": "python3"
  },
  "language_info": {
   "codemirror_mode": {
    "name": "ipython",
    "version": 3
   },
   "file_extension": ".py",
   "mimetype": "text/x-python",
   "name": "python",
   "nbconvert_exporter": "python",
   "pygments_lexer": "ipython3",
   "version": "3.9.0"
  }
 },
 "nbformat": 4,
 "nbformat_minor": 2
}
